{
  "nbformat": 4,
  "nbformat_minor": 0,
  "metadata": {
    "kernelspec": {
      "display_name": "Python 3",
      "language": "python",
      "name": "python3"
    },
    "language_info": {
      "codemirror_mode": {
        "name": "ipython",
        "version": 3
      },
      "file_extension": ".py",
      "mimetype": "text/x-python",
      "name": "python",
      "nbconvert_exporter": "python",
      "pygments_lexer": "ipython3",
      "version": "3.6.5"
    },
    "colab": {
      "name": "Gaussian_Mixture_Model_np_implementation.ipynb",
      "provenance": [],
      "include_colab_link": true
    }
  },
  "cells": [
    {
      "cell_type": "markdown",
      "metadata": {
        "id": "view-in-github",
        "colab_type": "text"
      },
      "source": [
        "<a href=\"https://colab.research.google.com/github/FelixSchmid/ML_exercises/blob/master/Gaussian_Mixture_Model_np_implementation.ipynb\" target=\"_parent\"><img src=\"https://colab.research.google.com/assets/colab-badge.svg\" alt=\"Open In Colab\"/></a>"
      ]
    },
    {
      "cell_type": "markdown",
      "metadata": {
        "id": "wMKTDrCnAkJq",
        "colab_type": "text"
      },
      "source": [
        "# NumPy implementation of a Gaussian Mixture Model\n",
        "Felix Schmid, 13.10.19\n"
      ]
    },
    {
      "cell_type": "code",
      "metadata": {
        "id": "J1ULMaFmAkJr",
        "colab_type": "code",
        "colab": {}
      },
      "source": [
        "import pandas as pd\n",
        "from sklearn.datasets import make_blobs\n",
        "import seaborn as sns\n",
        "from numpy import mean\n",
        "from numpy import std\n",
        "from numpy.random import randn\n",
        "from numpy.random import seed\n",
        "from numpy import cov\n",
        "from matplotlib import pyplot\n",
        "import matplotlib.pyplot as plt\n",
        "from scipy.stats import norm\n",
        "import scipy.stats as stats\n",
        "import math\n"
      ],
      "execution_count": 0,
      "outputs": []
    },
    {
      "cell_type": "markdown",
      "metadata": {
        "id": "TDd-mzMsAkJv",
        "colab_type": "text"
      },
      "source": [
        "## Generating the data"
      ]
    },
    {
      "cell_type": "code",
      "metadata": {
        "id": "UfsLalpyAkJv",
        "colab_type": "code",
        "colab": {},
        "outputId": "804ae190-3190-4dd9-a301-9134edcfb946"
      },
      "source": [
        "X, y = make_blobs(\n",
        "    n_samples=500, n_features=1,\n",
        "    centers=2, cluster_std=1.2, center_box = [-5,5])\n",
        "\n",
        "set1 = X[y == 0]\n",
        "set2 = X[y == 1]\n",
        "# Density Plot for set1\n",
        "sns.distplot(set1, hist = False, kde = True, rug = True,\n",
        "             color = 'blue', \n",
        "             rug_kws={'color': 'blue'})\n",
        "# Plot set 2\n",
        "sns.distplot(set2, hist = False, kde = True, rug = True,\n",
        "             color = 'red', \n",
        "             rug_kws={'color': 'red'})\n",
        "# Plot formatting\n",
        "plt.title('Density Plot with Rug Plot for two Gaussian surrogate data sets')\n",
        "plt.xlabel('X')\n",
        "plt.ylabel('Density')\n",
        "plt.show()"
      ],
      "execution_count": 0,
      "outputs": [
        {
          "output_type": "display_data",
          "data": {
            "image/png": "[encoded data removed]",
            "text/plain": [
              "<Figure size 432x288 with 1 Axes>"
            ]
          },
          "metadata": {
            "tags": []
          }
        }
      ]
    },
    {
      "cell_type": "markdown",
      "metadata": {
        "id": "Cgj_bmzsAkJz",
        "colab_type": "text"
      },
      "source": [
        "## Gaussian Mixture Model for one dimension"
      ]
    },
    {
      "cell_type": "code",
      "metadata": {
        "id": "_h3dLm-cAkJ0",
        "colab_type": "code",
        "colab": {}
      },
      "source": [
        "def gaussian_mixture_model(X, mus, sigmas, pis, max_iterations, tolerance):\n",
        "    \n",
        "    # Definition of helping variables\n",
        "    N = X.shape[0]\n",
        "    k = len(pis)\n",
        "    log_likelihood = 0\n",
        "    for it in range(max_iterations):\n",
        "        print(\"\\nIter: \" + str(it+1))\n",
        "           \n",
        "        # Expectation step: Soft assignment of the source distribution for each x_i:\n",
        "        ws = np.zeros((N, k))\n",
        "        for j in range(k):\n",
        "            for i in range(N):\n",
        "                ws[i,j] = pis[j] * norm.pdf(X[i], mus[j], sigmas[j])         \n",
        "        normalizer = ws.sum(axis=1)\n",
        "        ws[:,0] = np.divide(ws[:,0], normalizer)\n",
        "        ws[:,1] = np.divide(ws[:,1], normalizer)\n",
        "        \n",
        "        # Maximization step: Update of weights, means, and covariance\n",
        "        pis = np.divide(ws.sum(axis=0), N)\n",
        "        print('pis: ' + str(pis))\n",
        "        mus = np.divide((np.multiply(ws,X)).sum(axis=0), ws.sum(axis=0))\n",
        "        print('mus: ' + str(mus))\n",
        "        sigmas = np.sqrt(np.divide((np.multiply(ws, np.add(-mus, X)**2)).sum(axis=0), ws.sum(axis=0)))\n",
        "        print('sigmas: ' + str(sigmas))\n",
        "        \n",
        "        # Updating the log likelihood & defining the stop criteria:\n",
        "        log_likelihood_new = 0.0 \n",
        "        for i in range(N):\n",
        "            placeholder = 0\n",
        "            for j in range(k):\n",
        "                placeholder = placeholder + pis[j] * norm.pdf(X[i], mus[j], sigmas[j]) \n",
        "            log_likelihood_new = log_likelihood_new + np.log(placeholder)\n",
        "        print('log_likelihood: '+ str(log_likelihood_new))\n",
        "        if np.abs(log_likelihood_new - log_likelihood) < tolerance:\n",
        "            break\n",
        "        log_likelihood = log_likelihood_new\n",
        "                   \n",
        "    return mus, sigmas, pis, ws"
      ],
      "execution_count": 0,
      "outputs": []
    },
    {
      "cell_type": "markdown",
      "metadata": {
        "id": "ku3zby8BAkJ3",
        "colab_type": "text"
      },
      "source": [
        "## Execution of the model"
      ]
    },
    {
      "cell_type": "markdown",
      "metadata": {
        "id": "xmi9uLPpAkJ3",
        "colab_type": "text"
      },
      "source": [
        "Depending on how we estimate the initial parameters, the GMM converges in more or less steps. \n",
        "\n",
        "The parameter tolerance defines at which point the GMM stops iterating. When we choose 0.1 for tolerance the GMM will run until the log_likelihood will not decrease more then 0.1 from the last step. If this is never the case, it will run for the defined max_iterations."
      ]
    },
    {
      "cell_type": "code",
      "metadata": {
        "id": "xWBoSjfIAkJ4",
        "colab_type": "code",
        "colab": {},
        "outputId": "52324f18-9ded-45a9-aa53-fc6ba78b8797"
      },
      "source": [
        "# initialization by naive guess of pis, mus ,and sigmas\n",
        "in_mus = [-5, 5]\n",
        "in_sigmas = [3, 3]\n",
        "in_pis = [0.4, 0.6]   \n",
        "\n",
        "# using the gmm to estimate on the surrogate data\n",
        "est_mus, est_sigmas, est_pis, ws = gaussian_mixture_model(X, in_mus, in_sigmas, in_pis, max_iterations= 20, tolerance=0.1)"
      ],
      "execution_count": 0,
      "outputs": [
        {
          "output_type": "stream",
          "text": [
            "\n",
            "Iter: 1\n",
            "pis: [0.43772934 0.56227066]\n",
            "mus: [-2.36870502  2.81963465]\n",
            "sigmas: [1.40443131 2.02505619]\n",
            "log_likelihood: [-1187.58282136]\n",
            "\n",
            "Iter: 2\n",
            "pis: [0.45948752 0.54051248]\n",
            "mus: [-2.43943857  3.0886201 ]\n",
            "sigmas: [1.17521563 1.70441162]\n",
            "log_likelihood: [-1161.80567406]\n",
            "\n",
            "Iter: 3\n",
            "pis: [0.4767938 0.5232062]\n",
            "mus: [-2.42177487  3.25537687]\n",
            "sigmas: [1.14773193 1.4671931 ]\n",
            "log_likelihood: [-1150.5042875]\n",
            "\n",
            "Iter: 4\n",
            "pis: [0.49005999 0.50994001]\n",
            "mus: [-2.37518196  3.35829262]\n",
            "sigmas: [1.17236478 1.33293734]\n",
            "log_likelihood: [-1145.13368866]\n",
            "\n",
            "Iter: 5\n",
            "pis: [0.49872463 0.50127537]\n",
            "mus: [-2.33543673  3.41785388]\n",
            "sigmas: [1.20345906 1.26106439]\n",
            "log_likelihood: [-1142.902236]\n",
            "\n",
            "Iter: 6\n",
            "pis: [0.50418395 0.49581605]\n",
            "mus: [-2.3071066   3.45239377]\n",
            "sigmas: [1.22890563 1.22226091]\n",
            "log_likelihood: [-1142.02248549]\n",
            "\n",
            "Iter: 7\n",
            "pis: [0.50763375 0.49236625]\n",
            "mus: [-2.288133    3.47318616]\n",
            "sigmas: [1.24693885 1.19995229]\n",
            "log_likelihood: [-1141.67243795]\n",
            "\n",
            "Iter: 8\n",
            "pis: [0.50981991 0.49018009]\n",
            "mus: [-2.27575714  3.48600947]\n",
            "sigmas: [1.25901263 1.18653247]\n",
            "log_likelihood: [-1141.53212552]\n",
            "\n",
            "Iter: 9\n",
            "pis: [0.51120711 0.48879289]\n",
            "mus: [-2.26777736  3.49401567]\n",
            "sigmas: [1.26690754 1.17827218]\n",
            "log_likelihood: [-1141.47571036]\n"
          ],
          "name": "stdout"
        }
      ]
    },
    {
      "cell_type": "markdown",
      "metadata": {
        "id": "yEwOnkj2AkJ7",
        "colab_type": "text"
      },
      "source": [
        "## Final pdf shapes and values"
      ]
    },
    {
      "cell_type": "markdown",
      "metadata": {
        "id": "tWsUpW9lAkJ7",
        "colab_type": "text"
      },
      "source": [
        "The final parameters are close to the original ones:"
      ]
    },
    {
      "cell_type": "code",
      "metadata": {
        "id": "wu5dSIckAkJ8",
        "colab_type": "code",
        "colab": {},
        "outputId": "733850fd-297c-40d5-faac-c2b2d21ee577"
      },
      "source": [
        "print('\\nfinal estimated mus: ' + str(est_mus))\n",
        "print('final estimated sigmas: ' + str(est_sigmas))\n",
        "print('final estimated pis: ' + str(est_pis))\n",
        "\n",
        "est_y = np.round(ws[:,1])\n",
        "acc = (1*(est_y==y)).sum(axis=0)/len(y)\n",
        "print('final accuracy of class prediction: '+ str(acc))"
      ],
      "execution_count": 0,
      "outputs": [
        {
          "output_type": "stream",
          "text": [
            "\n",
            "final estimated mus: [-2.26777736  3.49401567]\n",
            "final estimated sigmas: [1.26690754 1.17827218]\n",
            "final estimated pis: [0.51120711 0.48879289]\n",
            "final accuracy of class prediction: 0.984\n"
          ],
          "name": "stdout"
        }
      ]
    },
    {
      "cell_type": "code",
      "metadata": {
        "id": "-PaFLyi7AkJ_",
        "colab_type": "code",
        "colab": {},
        "outputId": "681ddc2b-7c1a-491e-b4ce-bfa23ad7ea33"
      },
      "source": [
        "for i in range(len(est_mus)):\n",
        "    color = ['blue', 'red']\n",
        "    mu = est_mus[i]\n",
        "    sigma = est_sigmas[i]\n",
        "    x = np.linspace(mu - 3*sigma, mu + 3*sigma, 100)\n",
        "    plt.plot(x, stats.norm.pdf(x, mu, sigma), c='black')\n",
        "    plt.scatter(X[y == i], np.zeros(len(X[y == i])),c=color[i], alpha=0.5, marker='|')\n",
        "plt.xlabel('X: The color of the rug plot shows the actual assignment to the original source')\n",
        "plt.ylabel('Density')\n",
        "plt.show()"
      ],
      "execution_count": 0,
      "outputs": [
        {
          "output_type": "display_data",
          "data": {
            "image/png": "[encoded data removed]",
            "text/plain": [
              "<Figure size 432x288 with 1 Axes>"
            ]
          },
          "metadata": {
            "tags": []
          }
        }
      ]
    },
    {
      "cell_type": "markdown",
      "metadata": {
        "id": "dz3hb2hkAkKC",
        "colab_type": "text"
      },
      "source": [
        "The density plots of the original data looks similair to the estimated density plots. When rounding the assigned pobability of each x_i and hard assigning each x_i to one distribution, the accuracy is 98.4%."
      ]
    }
  ]
}