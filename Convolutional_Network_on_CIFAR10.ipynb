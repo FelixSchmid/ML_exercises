{
  "nbformat": 4,
  "nbformat_minor": 0,
  "metadata": {
    "colab": {
      "name": "Convolutional_Network_on_CIFAR10.ipynb",
      "provenance": [],
      "collapsed_sections": [],
      "include_colab_link": true
    },
    "language_info": {
      "codemirror_mode": {
        "name": "ipython",
        "version": 3
      },
      "file_extension": ".py",
      "mimetype": "text/x-python",
      "name": "python",
      "nbconvert_exporter": "python",
      "pygments_lexer": "ipython3",
      "version": "3.6.8"
    },
    "kernelspec": {
      "display_name": "Python 3",
      "language": "python",
      "name": "python3"
    },
    "accelerator": "GPU"
  },
  "cells": [
    {
      "cell_type": "markdown",
      "metadata": {
        "id": "view-in-github",
        "colab_type": "text"
      },
      "source": [
        "<a href=\"https://colab.research.google.com/github/FelixSchmid/ML_exercises/blob/master/Convolutional_Network_on_CIFAR10.ipynb\" target=\"_parent\"><img src=\"https://colab.research.google.com/assets/colab-badge.svg\" alt=\"Open In Colab\"/></a>"
      ]
    },
    {
      "cell_type": "markdown",
      "metadata": {
        "colab_type": "text",
        "id": "eSHhdguTHm0N"
      },
      "source": [
        "# Task: CIFAR-10 classification\n",
        "\n",
        "The [CIFAR-10 dataset](https://www.cs.toronto.edu/~kriz/cifar.html)\n",
        "\n",
        "> \"consists of 60000 32x32 colour images in 10 classes, with 6000 images per class. There are 50000 training images and 10000 test images.\n",
        "\n",
        ">The dataset is divided into five training batches and one test batch, each with 10000 images. The test batch contains exactly 1000 randomly-selected images from each class. The training batches contain the remaining images in random order, but some training batches may contain more images from one class than another. Between them, the training batches contain exactly 5000 images from each class.\"\n",
        "\n",
        "<img src=\"https://corochann.com/wp-content/uploads/2017/04/cifar10_plot.png\">\n",
        "\n",
        "### Categories:\n",
        "\n",
        "- airplane \t\t\t\t\t\t\t\t\t\t\n",
        "- automobile \t\t\t\t\t\t\t\t\t\t\n",
        "- bird \t\t\t\t\t\t\t\t\t\t\n",
        "- cat \t\t\t\t\t\t\t\t\t\t\n",
        "- deer \t\t\t\t\t\t\t\t\t\t\n",
        "- dog \t\t\t\t\t\t\t\t\t\t\n",
        "- frog \t\t\t\t\t\t\t\t\t\t\n",
        "- horse \t\t\t\t\t\t\t\t\t\t\n",
        "- ship \t\t\t\t\t\t\t\t\t\t\n",
        "- truck"
      ]
    },
    {
      "cell_type": "markdown",
      "metadata": {
        "colab_type": "text",
        "id": "TIX2ehpiHm0S"
      },
      "source": [
        "# Preliminaries"
      ]
    },
    {
      "cell_type": "code",
      "metadata": {
        "ExecuteTime": {
          "end_time": "2019-05-01T08:39:01.205778Z",
          "start_time": "2019-05-01T08:39:00.058811Z"
        },
        "colab_type": "code",
        "id": "sTT_MyHltNm4",
        "colab": {}
      },
      "source": [
        "import numpy as np\n",
        "import os\n",
        "\n",
        "import tensorflow as tf\n",
        "from tensorflow.keras.layers import Input, Dense, Dropout, Conv2D, MaxPool2D, Flatten\n",
        "from tensorflow.keras.models import Model\n",
        "from tensorflow.keras.optimizers import Adadelta, Adam, SGD\n",
        "from tensorflow.keras.losses import sparse_categorical_crossentropy\n",
        "from tensorflow.keras.regularizers import l1\n",
        "from tensorflow.keras.backend import clear_session\n",
        "from tensorflow.keras.callbacks import TensorBoard\n",
        "from tensorflow.keras.initializers import glorot_normal\n",
        "# from tensorboardcolab import TensorBoardColab \n",
        "\n",
        "# Fix seeds for (hopefully) reproducible results\n",
        "from numpy.random import seed\n",
        "seed(14)\n",
        "from tensorflow import set_random_seed\n",
        "set_random_seed(19)"
      ],
      "execution_count": 0,
      "outputs": []
    },
    {
      "cell_type": "markdown",
      "metadata": {
        "colab_type": "text",
        "id": "7d9_yHMEtNnG"
      },
      "source": [
        "Download the data if necessary and load it:"
      ]
    },
    {
      "cell_type": "code",
      "metadata": {
        "ExecuteTime": {
          "end_time": "2019-05-01T08:39:36.264800Z",
          "start_time": "2019-05-01T08:39:01.207234Z"
        },
        "colab_type": "code",
        "id": "jFmPQL0xM_4p",
        "outputId": "ec0ddb83-a1dc-4a24-f763-759956b75cd9",
        "colab": {
          "base_uri": "https://localhost:8080/",
          "height": 52
        }
      },
      "source": [
        "train, test = tf.keras.datasets.cifar10.load_data()\n",
        "\n",
        "train_images, train_labels = train\n",
        "\n",
        "valid_test_images, valid_test_labels = test\n",
        "\n",
        "train_images = train_images / 255.\n",
        "\n",
        "valid_test_images = valid_test_images / 255.\n",
        "\n",
        "valid_images = valid_test_images[:5000]\n",
        "valid_labels = valid_test_labels[:5000]\n",
        "test_images = valid_test_images[5000:]\n",
        "test_labels = valid_test_labels[5000:]\n",
        "\n",
        "print(train_images.shape, valid_images.shape, test_images.shape)\n",
        "print(train_labels.shape, valid_labels.shape, test_labels.shape)"
      ],
      "execution_count": 0,
      "outputs": [
        {
          "output_type": "stream",
          "text": [
            "(50000, 32, 32, 3) (5000, 32, 32, 3) (5000, 32, 32, 3)\n",
            "(50000, 1) (5000, 1) (5000, 1)\n"
          ],
          "name": "stdout"
        }
      ]
    },
    {
      "cell_type": "markdown",
      "metadata": {
        "colab_type": "text",
        "id": "QxyeFqibHm05"
      },
      "source": [
        "# Model\n",
        "\n",
        "## Parameters"
      ]
    },
    {
      "cell_type": "code",
      "metadata": {
        "ExecuteTime": {
          "end_time": "2019-05-01T08:39:36.268218Z",
          "start_time": "2019-05-01T08:39:36.266265Z"
        },
        "colab_type": "code",
        "id": "S075_4a6tNna",
        "colab": {}
      },
      "source": [
        "n_classes = 10"
      ],
      "execution_count": 0,
      "outputs": []
    },
    {
      "cell_type": "markdown",
      "metadata": {
        "colab_type": "text",
        "id": "ACdo3SEitNnl"
      },
      "source": [
        "## Network"
      ]
    },
    {
      "cell_type": "code",
      "metadata": {
        "ExecuteTime": {
          "end_time": "2019-05-01T08:39:36.404889Z",
          "start_time": "2019-05-01T08:39:36.282271Z"
        },
        "colab_type": "code",
        "id": "o8OgyCFaHm1H",
        "outputId": "62da03b5-7590-4ff1-d38c-461b5033191b",
        "colab": {
          "base_uri": "https://localhost:8080/",
          "height": 723
        }
      },
      "source": [
        "# adapted from https://github.com/jtopor/CUNY-MSDA-661/blob/master/CIFAR-CNN/TF-Layers-CIFAR-GITHUB-v3.py\n",
        "\n",
        "\n",
        "tf.reset_default_graph()\n",
        "clear_session   \n",
        "\n",
        "\n",
        "# Model Patrameters\n",
        "#######\n",
        "\n",
        "rate1 = 0.50\n",
        "rate2 = 0.50\n",
        "epoch_count = 40\n",
        "batch_size = 200\n",
        "\n",
        "# Remember, we have pictures with 32x32 pixels and 3 color channels\n",
        "x = Input(shape=(32, 32, 3))\n",
        "\n",
        "# Convolutional Layer #1: (batch_size, 32, 32, 3) -> (batch_size, 32, 32, 64)\n",
        "conv1 = Conv2D(filters = 64, kernel_size = (5,5), padding='same', activation='relu')(x)\n",
        " \n",
        "# Pooling Layer #1: (batch_size, 32, 32, 64) -> (batch_size, 16, 16, 64)\n",
        "pool1 = MaxPool2D(pool_size=(2,2), strides = 2)(conv1)\n",
        "\n",
        "# Define a dropout layer with using the first dropout rate parameter\n",
        "dropout1 = Dropout(rate=rate1)(pool1)\n",
        "\n",
        "# Convolutional Layer #2: (batch_size, 16, 16, 64) -> (batch_size, 16, 16, 64)\n",
        "conv2 = Conv2D(filters = 64, kernel_size = (5,5), padding='same', activation='relu')(dropout1)\n",
        "  \n",
        "# Pooling Layer #2: (batch_size, 16, 16, 64) -> (batch_size, 8, 8, 64)\n",
        "pool2 = MaxPool2D(pool_size=(2,2), strides = 2)(conv2)\n",
        "\n",
        "# Define a dropout layer with using the FIRST dropout rate parameter\n",
        "dropout2 = Dropout(rate=rate1)(pool2)\n",
        "\n",
        "# Convert tensors into vectors: (batch_size, 8, 8, 64) -> (batch_size, 4096)\n",
        "pool2_flat = Flatten()(dropout2)\n",
        "\n",
        "# Fully connected Layer #1: (batch_size, 4096)-> (batch_size, 512)\n",
        "dense1 = Dense(512, activation = 'relu')(pool2_flat)\n",
        "\n",
        "# Define a dropout layer with using the SECOND dropout rate parameter\n",
        "dropout3 = Dropout(rate=rate2)(dense1)\n",
        "\n",
        "# Dense Layer #1: (batch_size, 512)-> (batch_size, 256)\n",
        "dense2 = Dense(256, activation = 'relu')(dropout3)\n",
        "\n",
        "# Define a dropout layer with using the SECOND dropout rate parameter\n",
        "dropout4 = Dropout(rate=rate2)(dense2)\n",
        "\n",
        "# Logits layer: (batch_size, 256) -> (batch_size, 10)\n",
        "predictions = Dense(10, activation = 'softmax')(dropout4)\n",
        "\n",
        "# Full model\n",
        "# Instantiate (initialize) the model with inputs and outputs\n",
        "model = Model(inputs=x, outputs=predictions)\n",
        "\n",
        "model.summary()\n"
      ],
      "execution_count": 0,
      "outputs": [
        {
          "output_type": "stream",
          "text": [
            "WARNING:tensorflow:From /usr/local/lib/python3.6/dist-packages/tensorflow/python/ops/resource_variable_ops.py:435: colocate_with (from tensorflow.python.framework.ops) is deprecated and will be removed in a future version.\n",
            "Instructions for updating:\n",
            "Colocations handled automatically by placer.\n",
            "WARNING:tensorflow:From /usr/local/lib/python3.6/dist-packages/tensorflow/python/keras/layers/core.py:143: calling dropout (from tensorflow.python.ops.nn_ops) with keep_prob is deprecated and will be removed in a future version.\n",
            "Instructions for updating:\n",
            "Please use `rate` instead of `keep_prob`. Rate should be set to `rate = 1 - keep_prob`.\n",
            "_________________________________________________________________\n",
            "Layer (type)                 Output Shape              Param #   \n",
            "=================================================================\n",
            "input_1 (InputLayer)         (None, 32, 32, 3)         0         \n",
            "_________________________________________________________________\n",
            "conv2d (Conv2D)              (None, 32, 32, 64)        4864      \n",
            "_________________________________________________________________\n",
            "max_pooling2d (MaxPooling2D) (None, 16, 16, 64)        0         \n",
            "_________________________________________________________________\n",
            "dropout (Dropout)            (None, 16, 16, 64)        0         \n",
            "_________________________________________________________________\n",
            "conv2d_1 (Conv2D)            (None, 16, 16, 64)        102464    \n",
            "_________________________________________________________________\n",
            "max_pooling2d_1 (MaxPooling2 (None, 8, 8, 64)          0         \n",
            "_________________________________________________________________\n",
            "dropout_1 (Dropout)          (None, 8, 8, 64)          0         \n",
            "_________________________________________________________________\n",
            "flatten (Flatten)            (None, 4096)              0         \n",
            "_________________________________________________________________\n",
            "dense (Dense)                (None, 512)               2097664   \n",
            "_________________________________________________________________\n",
            "dropout_2 (Dropout)          (None, 512)               0         \n",
            "_________________________________________________________________\n",
            "dense_1 (Dense)              (None, 256)               131328    \n",
            "_________________________________________________________________\n",
            "dropout_3 (Dropout)          (None, 256)               0         \n",
            "_________________________________________________________________\n",
            "dense_2 (Dense)              (None, 10)                2570      \n",
            "=================================================================\n",
            "Total params: 2,338,890\n",
            "Trainable params: 2,338,890\n",
            "Non-trainable params: 0\n",
            "_________________________________________________________________\n"
          ],
          "name": "stdout"
        }
      ]
    },
    {
      "cell_type": "markdown",
      "metadata": {
        "colab_type": "text",
        "id": "LGKQ-8bmtNn1"
      },
      "source": [
        "## Loss, optimization and compilation"
      ]
    },
    {
      "cell_type": "code",
      "metadata": {
        "ExecuteTime": {
          "end_time": "2019-05-01T08:39:36.473837Z",
          "start_time": "2019-05-01T08:39:36.407595Z"
        },
        "colab_type": "code",
        "id": "j1UmvSzLHm1R",
        "colab": {}
      },
      "source": [
        "# Loss \n",
        "\n",
        "loss = sparse_categorical_crossentropy # we use this cross entropy variant as the input is not \n",
        "                                       # one-hot encoded\n",
        "\n",
        "# Optimizer\n",
        "# Choose an optimizer - adaptive ones work well here\n",
        "optimizer = 'adam'\n",
        " \n",
        "# Compilation\n",
        "#############\n",
        "\n",
        "model.compile(optimizer=optimizer, loss=loss, metrics=['accuracy'])"
      ],
      "execution_count": 0,
      "outputs": []
    },
    {
      "cell_type": "markdown",
      "metadata": {
        "colab_type": "text",
        "id": "gkPe16fDtNoJ"
      },
      "source": [
        "## Training"
      ]
    },
    {
      "cell_type": "code",
      "metadata": {
        "ExecuteTime": {
          "end_time": "2019-05-01T08:51:59.029061Z",
          "start_time": "2019-05-01T08:39:36.475186Z"
        },
        "colab_type": "code",
        "id": "zZ1d14lFtNoM",
        "outputId": "b0f153f2-2ee3-4a28-a433-c24398dc26c0",
        "colab": {
          "base_uri": "https://localhost:8080/",
          "height": 1443
        }
      },
      "source": [
        "# tb=TensorBoard(log_dir='./Graph')\n",
        "# tbc=TensorBoardColab(graph_path='./Graph')\n",
        "\n",
        "history = model.fit(x=train_images, y=train_labels,\n",
        "                    validation_data=(valid_images, valid_labels),\n",
        "                    epochs=epoch_count,\n",
        "                    batch_size=batch_size) #, callbacks=[tb])"
      ],
      "execution_count": 0,
      "outputs": [
        {
          "output_type": "stream",
          "text": [
            "Train on 50000 samples, validate on 5000 samples\n",
            "Epoch 1/40\n",
            "50000/50000 [==============================] - 7s 149us/sample - loss: 1.8493 - acc: 0.3102 - val_loss: 1.4646 - val_acc: 0.4720\n",
            "Epoch 2/40\n",
            "50000/50000 [==============================] - 5s 101us/sample - loss: 1.4537 - acc: 0.4749 - val_loss: 1.2448 - val_acc: 0.5552\n",
            "Epoch 3/40\n",
            "50000/50000 [==============================] - 5s 100us/sample - loss: 1.3082 - acc: 0.5333 - val_loss: 1.1246 - val_acc: 0.6068\n",
            "Epoch 4/40\n",
            "50000/50000 [==============================] - 5s 100us/sample - loss: 1.2097 - acc: 0.5715 - val_loss: 1.0317 - val_acc: 0.6418\n",
            "Epoch 5/40\n",
            "50000/50000 [==============================] - 5s 101us/sample - loss: 1.1330 - acc: 0.6001 - val_loss: 1.0221 - val_acc: 0.6422\n",
            "Epoch 6/40\n",
            "50000/50000 [==============================] - 5s 102us/sample - loss: 1.0778 - acc: 0.6233 - val_loss: 0.9550 - val_acc: 0.6702\n",
            "Epoch 7/40\n",
            "50000/50000 [==============================] - 5s 103us/sample - loss: 1.0377 - acc: 0.6361 - val_loss: 0.8969 - val_acc: 0.6844\n",
            "Epoch 8/40\n",
            "50000/50000 [==============================] - 5s 105us/sample - loss: 1.0041 - acc: 0.6500 - val_loss: 0.8751 - val_acc: 0.7008\n",
            "Epoch 9/40\n",
            "50000/50000 [==============================] - 5s 105us/sample - loss: 0.9698 - acc: 0.6644 - val_loss: 0.8711 - val_acc: 0.6928\n",
            "Epoch 10/40\n",
            "50000/50000 [==============================] - 5s 106us/sample - loss: 0.9427 - acc: 0.6727 - val_loss: 0.8910 - val_acc: 0.6850\n",
            "Epoch 11/40\n",
            "50000/50000 [==============================] - 5s 103us/sample - loss: 0.9334 - acc: 0.6753 - val_loss: 0.8067 - val_acc: 0.7182\n",
            "Epoch 12/40\n",
            "50000/50000 [==============================] - 5s 103us/sample - loss: 0.9005 - acc: 0.6842 - val_loss: 0.8034 - val_acc: 0.7260\n",
            "Epoch 13/40\n",
            "50000/50000 [==============================] - 5s 102us/sample - loss: 0.8823 - acc: 0.6919 - val_loss: 0.7906 - val_acc: 0.7270\n",
            "Epoch 14/40\n",
            "50000/50000 [==============================] - 5s 102us/sample - loss: 0.8640 - acc: 0.6987 - val_loss: 0.8046 - val_acc: 0.7152\n",
            "Epoch 15/40\n",
            "50000/50000 [==============================] - 5s 101us/sample - loss: 0.8563 - acc: 0.7010 - val_loss: 0.7957 - val_acc: 0.7228\n",
            "Epoch 16/40\n",
            "50000/50000 [==============================] - 5s 101us/sample - loss: 0.8204 - acc: 0.7142 - val_loss: 0.7828 - val_acc: 0.7252\n",
            "Epoch 17/40\n",
            "50000/50000 [==============================] - 5s 101us/sample - loss: 0.8072 - acc: 0.7167 - val_loss: 0.7497 - val_acc: 0.7386\n",
            "Epoch 18/40\n",
            "50000/50000 [==============================] - 5s 100us/sample - loss: 0.8095 - acc: 0.7192 - val_loss: 0.7368 - val_acc: 0.7456\n",
            "Epoch 19/40\n",
            "50000/50000 [==============================] - 5s 101us/sample - loss: 0.7914 - acc: 0.7222 - val_loss: 0.7509 - val_acc: 0.7440\n",
            "Epoch 20/40\n",
            "50000/50000 [==============================] - 5s 101us/sample - loss: 0.7826 - acc: 0.7273 - val_loss: 0.7323 - val_acc: 0.7438\n",
            "Epoch 21/40\n",
            "50000/50000 [==============================] - 5s 101us/sample - loss: 0.7669 - acc: 0.7330 - val_loss: 0.7277 - val_acc: 0.7466\n",
            "Epoch 22/40\n",
            "50000/50000 [==============================] - 5s 101us/sample - loss: 0.7551 - acc: 0.7370 - val_loss: 0.7271 - val_acc: 0.7464\n",
            "Epoch 23/40\n",
            "50000/50000 [==============================] - 5s 104us/sample - loss: 0.7523 - acc: 0.7398 - val_loss: 0.7215 - val_acc: 0.7478\n",
            "Epoch 24/40\n",
            "50000/50000 [==============================] - 5s 104us/sample - loss: 0.7423 - acc: 0.7409 - val_loss: 0.7220 - val_acc: 0.7452\n",
            "Epoch 25/40\n",
            "50000/50000 [==============================] - 5s 102us/sample - loss: 0.7220 - acc: 0.7483 - val_loss: 0.7161 - val_acc: 0.7530\n",
            "Epoch 26/40\n",
            "50000/50000 [==============================] - 5s 101us/sample - loss: 0.7214 - acc: 0.7499 - val_loss: 0.7225 - val_acc: 0.7452\n",
            "Epoch 27/40\n",
            "50000/50000 [==============================] - 5s 102us/sample - loss: 0.7073 - acc: 0.7525 - val_loss: 0.7019 - val_acc: 0.7548\n",
            "Epoch 28/40\n",
            "50000/50000 [==============================] - 5s 102us/sample - loss: 0.7089 - acc: 0.7518 - val_loss: 0.6913 - val_acc: 0.7620\n",
            "Epoch 29/40\n",
            "50000/50000 [==============================] - 5s 105us/sample - loss: 0.6959 - acc: 0.7557 - val_loss: 0.6895 - val_acc: 0.7614\n",
            "Epoch 30/40\n",
            "50000/50000 [==============================] - 5s 106us/sample - loss: 0.6868 - acc: 0.7600 - val_loss: 0.6989 - val_acc: 0.7606\n",
            "Epoch 31/40\n",
            "50000/50000 [==============================] - 5s 101us/sample - loss: 0.6856 - acc: 0.7628 - val_loss: 0.6877 - val_acc: 0.7584\n",
            "Epoch 32/40\n",
            "50000/50000 [==============================] - 5s 102us/sample - loss: 0.6853 - acc: 0.7627 - val_loss: 0.6844 - val_acc: 0.7660\n",
            "Epoch 33/40\n",
            "50000/50000 [==============================] - 5s 102us/sample - loss: 0.6736 - acc: 0.7654 - val_loss: 0.6849 - val_acc: 0.7630\n",
            "Epoch 34/40\n",
            "50000/50000 [==============================] - 5s 101us/sample - loss: 0.6716 - acc: 0.7661 - val_loss: 0.6796 - val_acc: 0.7608\n",
            "Epoch 35/40\n",
            "50000/50000 [==============================] - 5s 101us/sample - loss: 0.6586 - acc: 0.7694 - val_loss: 0.6824 - val_acc: 0.7576\n",
            "Epoch 36/40\n",
            "50000/50000 [==============================] - 5s 101us/sample - loss: 0.6490 - acc: 0.7737 - val_loss: 0.7070 - val_acc: 0.7520\n",
            "Epoch 37/40\n",
            "50000/50000 [==============================] - 5s 100us/sample - loss: 0.6534 - acc: 0.7715 - val_loss: 0.6860 - val_acc: 0.7672\n",
            "Epoch 38/40\n",
            "50000/50000 [==============================] - 5s 101us/sample - loss: 0.6494 - acc: 0.7733 - val_loss: 0.6891 - val_acc: 0.7606\n",
            "Epoch 39/40\n",
            "50000/50000 [==============================] - 5s 103us/sample - loss: 0.6371 - acc: 0.7759 - val_loss: 0.6864 - val_acc: 0.7646\n",
            "Epoch 40/40\n",
            "50000/50000 [==============================] - 5s 103us/sample - loss: 0.6282 - acc: 0.7802 - val_loss: 0.6871 - val_acc: 0.7636\n"
          ],
          "name": "stdout"
        }
      ]
    },
    {
      "cell_type": "code",
      "metadata": {
        "ExecuteTime": {
          "end_time": "2019-05-01T08:56:28.958057Z",
          "start_time": "2019-05-01T08:56:28.713031Z"
        },
        "colab_type": "code",
        "id": "6GTGeChttNoi",
        "outputId": "2d12d669-9007-41db-e643-d935826339cb",
        "colab": {
          "base_uri": "https://localhost:8080/",
          "height": 573
        }
      },
      "source": [
        "from matplotlib import pyplot as plt\n",
        "\n",
        "def display_history(history):\n",
        "    \"\"\"Summarize history for accuracy and loss.\n",
        "    \"\"\"\n",
        "    plt.plot(history.history['acc'])\n",
        "    plt.plot(history.history['val_acc'])\n",
        "    plt.title('Model accuracy')\n",
        "    plt.ylabel('accuracy')\n",
        "    plt.xlabel('epoch')\n",
        "    plt.legend(['train', 'valid'], loc='upper left')\n",
        "    plt.show()\n",
        "    plt.plot(history.history['loss'])\n",
        "    plt.plot(history.history['val_loss'])\n",
        "    plt.title('Model loss')\n",
        "    plt.ylabel('loss')\n",
        "    plt.xlabel('epoch')\n",
        "    plt.legend(['train', 'valid'], loc='upper left')\n",
        "    plt.show()\n",
        "    \n",
        "display_history(history);"
      ],
      "execution_count": 0,
      "outputs": [
        {
          "output_type": "display_data",
          "data": {
            "image/png": "[encoded data removed]",
            "text/plain": [
              "<Figure size 432x288 with 1 Axes>"
            ]
          },
          "metadata": {
            "tags": []
          }
        },
        {
          "output_type": "display_data",
          "data": {
            "image/png": "[encoded data removed]",
            "text/plain": [
              "<Figure size 432x288 with 1 Axes>"
            ]
          },
          "metadata": {
            "tags": []
          }
        }
      ]
    },
    {
      "cell_type": "markdown",
      "metadata": {
        "colab_type": "text",
        "id": "O7nD81aQtNo3"
      },
      "source": [
        "## Saving the model"
      ]
    },
    {
      "cell_type": "code",
      "metadata": {
        "ExecuteTime": {
          "end_time": "2019-05-01T08:52:10.803767Z",
          "start_time": "2019-05-01T08:52:10.663477Z"
        },
        "colab_type": "code",
        "id": "XcFR3MkStNo5",
        "colab": {}
      },
      "source": [
        "model.save('my_model.h5')  # creates a HDF5 file 'my_model.h5'"
      ],
      "execution_count": 0,
      "outputs": []
    }
  ]
}