{
  "nbformat": 4,
  "nbformat_minor": 0,
  "metadata": {
    "colab": {
      "name": "Dense_Neural_Net_on_fashion_MNIST.ipynb",
      "provenance": [],
      "collapsed_sections": [],
      "include_colab_link": true
    },
    "language_info": {
      "codemirror_mode": {
        "name": "ipython",
        "version": 3
      },
      "file_extension": ".py",
      "mimetype": "text/x-python",
      "name": "python",
      "nbconvert_exporter": "python",
      "pygments_lexer": "ipython3",
      "version": "3.6.8"
    },
    "kernelspec": {
      "display_name": "Python 3",
      "language": "python",
      "name": "python3"
    },
    "accelerator": "GPU"
  },
  "cells": [
    {
      "cell_type": "markdown",
      "metadata": {
        "id": "view-in-github",
        "colab_type": "text"
      },
      "source": [
        "<a href=\"https://colab.research.google.com/github/FelixSchmid/ML_exercises/blob/master/Dense_Neural_Net_on_fashion_MNIST.ipynb\" target=\"_parent\"><img src=\"https://colab.research.google.com/assets/colab-badge.svg\" alt=\"Open In Colab\"/></a>"
      ]
    },
    {
      "cell_type": "markdown",
      "metadata": {
        "colab_type": "text",
        "id": "eSHhdguTHm0N"
      },
      "source": [
        "# Challenge: Get the best results on the [fashion-MNIST](https://github.com/zalandoresearch/fashion-mnist) dataset!\n",
        "\n",
        "> \"Fashion-MNIST is a dataset of Zalando's article images—consisting of a training set of 60,000 examples and a test set of 10,000 examples. Each example is a 28x28 grayscale image, associated with a label from 10 classes. We intend Fashion-MNIST to serve as a direct drop-in replacement for the original MNIST dataset for benchmarking machine learning algorithms. It shares the same image size and structure of training and testing splits.\"\n",
        "\n",
        "<img src=\"https://raw.githubusercontent.com/zalandoresearch/fashion-mnist/master/doc/img/fashion-mnist-sprite.png\">\n"
      ]
    },
    {
      "cell_type": "markdown",
      "metadata": {
        "colab_type": "text",
        "id": "TIX2ehpiHm0S"
      },
      "source": [
        "# Loading the data"
      ]
    },
    {
      "cell_type": "code",
      "metadata": {
        "colab_type": "code",
        "id": "dcJxMEUUHu3M",
        "colab": {}
      },
      "source": [
        "! wget http://fashion-mnist.s3-website.eu-central-1.amazonaws.com/train-images-idx3-ubyte.gz\n",
        "! wget http://fashion-mnist.s3-website.eu-central-1.amazonaws.com/train-labels-idx1-ubyte.gz\n",
        "! wget http://fashion-mnist.s3-website.eu-central-1.amazonaws.com/t10k-images-idx3-ubyte.gz\n",
        "! wget http://fashion-mnist.s3-website.eu-central-1.amazonaws.com/t10k-labels-idx1-ubyte.gz"
      ],
      "execution_count": 0,
      "outputs": []
    },
    {
      "cell_type": "code",
      "metadata": {
        "id": "ta2B6EXKhDeZ",
        "colab_type": "code",
        "colab": {}
      },
      "source": [
        "!git clone https://github.com/taomanwai/tensorboardcolab.git\n",
        "!python ./tensorboardcolab/setup.py install"
      ],
      "execution_count": 0,
      "outputs": []
    },
    {
      "cell_type": "code",
      "metadata": {
        "colab_type": "code",
        "id": "BmhEB9dAHm0V",
        "colab": {}
      },
      "source": [
        "import numpy as np\n",
        "import os\n",
        "import gzip\n",
        "\n",
        "def load_mnist(path, kind='train'):\n",
        "    \"\"\"Load MNIST data from `path`.\n",
        "    \"\"\"\n",
        "    labels_path = os.path.join(path,'%s-labels-idx1-ubyte.gz' % kind)\n",
        "    images_path = os.path.join(path,'%s-images-idx3-ubyte.gz' % kind)\n",
        "\n",
        "    with gzip.open(labels_path, 'rb') as lbpath:\n",
        "        labels = np.frombuffer(lbpath.read(), dtype=np.uint8,\n",
        "                               offset=8)\n",
        "\n",
        "    with gzip.open(images_path, 'rb') as imgpath:\n",
        "        images = np.frombuffer(imgpath.read(), dtype=np.uint8,\n",
        "                               offset=16).reshape(len(labels), 784)\n",
        "\n",
        "    return images, labels"
      ],
      "execution_count": 0,
      "outputs": []
    },
    {
      "cell_type": "code",
      "metadata": {
        "colab_type": "code",
        "id": "jFmPQL0xM_4p",
        "outputId": "0c21818d-c911-4539-d121-aa47e9115367",
        "colab": {
          "base_uri": "https://localhost:8080/",
          "height": 34
        }
      },
      "source": [
        "train_images, train_labels = load_mnist('.')\n",
        "valid_test_images, valid_test_labels = load_mnist('.', 't10k')\n",
        "valid_images = valid_test_images[:5000]\n",
        "valid_labels = valid_test_labels[:5000]\n",
        "test_images = valid_test_images[5000:]\n",
        "test_labels = valid_test_labels[5000:]\n",
        "\n",
        "print(train_images.shape, valid_images.shape, test_images.shape)"
      ],
      "execution_count": 0,
      "outputs": [
        {
          "output_type": "stream",
          "text": [
            "(60000, 784) (5000, 784) (5000, 784)\n"
          ],
          "name": "stdout"
        }
      ]
    },
    {
      "cell_type": "markdown",
      "metadata": {
        "colab_type": "text",
        "id": "Aumcj_hUfBg4"
      },
      "source": [
        "Let's have a look at the first few training images:"
      ]
    },
    {
      "cell_type": "code",
      "metadata": {
        "colab_type": "code",
        "id": "o105FqR_fBg7",
        "outputId": "400b73bd-f6d6-4e7d-ca1d-0c7bd65d7d29",
        "colab": {
          "base_uri": "https://localhost:8080/",
          "height": 283
        }
      },
      "source": [
        "from matplotlib import pyplot as plt\n",
        "from math import ceil\n",
        "\n",
        "def show_images(images):\n",
        "    \"\"\"Show images in a grid\n",
        "    \"\"\"\n",
        "    n_rows = ceil(len(images) / 10)\n",
        "    fig, ax = plt.subplots(n_rows, 10, figsize=(15, 1.5 * n_rows),\n",
        "                           subplot_kw={'xticks':[], 'yticks':[]},\n",
        "                           gridspec_kw=dict(hspace=0.1, wspace=0.1))\n",
        "    for i, _ in enumerate(images):\n",
        "        ax[i // 10, i % 10].imshow(images[i].reshape(28, 28), cmap='Greys')\n",
        "\n",
        "show_images(train_images[:30])\n",
        "plt.show();"
      ],
      "execution_count": 0,
      "outputs": [
        {
          "output_type": "display_data",
          "data": {
            "image/png": "[encoded data removed]",
            "text/plain": [
              "<Figure size 1080x324 with 30 Axes>"
            ]
          },
          "metadata": {
            "tags": []
          }
        }
      ]
    },
    {
      "cell_type": "markdown",
      "metadata": {
        "colab_type": "text",
        "id": "GclmFak2s54y"
      },
      "source": [
        "# Model\n",
        "\n",
        "## Preliminaries"
      ]
    },
    {
      "cell_type": "code",
      "metadata": {
        "colab_type": "code",
        "id": "YicGfZ4ffBhK",
        "outputId": "14434b25-379e-467f-9aa8-dd5d40bc3a50",
        "colab": {
          "base_uri": "https://localhost:8080/",
          "height": 34
        }
      },
      "source": [
        "import tensorflow as tf\n",
        "from tensorflow.keras.layers import Input, Dense, Dropout\n",
        "from tensorflow.keras.models import Model\n",
        "from tensorflow.keras.optimizers import Adadelta, Adam\n",
        "from tensorflow.keras.losses import sparse_categorical_crossentropy\n",
        "from tensorflow.keras.regularizers import l1\n",
        "from tensorflow.keras.backend import clear_session\n",
        "from tensorflow.keras.callbacks import TensorBoard\n",
        "from tensorboardcolab import TensorBoardColab \n"
      ],
      "execution_count": 0,
      "outputs": [
        {
          "output_type": "stream",
          "text": [
            "Using TensorFlow backend.\n"
          ],
          "name": "stderr"
        }
      ]
    },
    {
      "cell_type": "markdown",
      "metadata": {
        "colab_type": "text",
        "id": "G3s8ZdftfBhd"
      },
      "source": [
        "We set the random seeds to get (as far as possible) reproducible results:"
      ]
    },
    {
      "cell_type": "code",
      "metadata": {
        "colab_type": "code",
        "id": "VFdlHKVDfBhi",
        "colab": {}
      },
      "source": [
        "# Fix seeds for (hopefully) reproducible results\n",
        "from numpy.random import seed\n",
        "seed(14)\n",
        "from tensorflow import set_random_seed\n",
        "set_random_seed(19)"
      ],
      "execution_count": 0,
      "outputs": []
    },
    {
      "cell_type": "markdown",
      "metadata": {
        "colab_type": "text",
        "id": "0L5qn2lXfBhp"
      },
      "source": [
        "## Hyperparameters"
      ]
    },
    {
      "cell_type": "markdown",
      "metadata": {
        "colab_type": "text",
        "id": "QxyeFqibHm05"
      },
      "source": [
        "## Network"
      ]
    },
    {
      "cell_type": "code",
      "metadata": {
        "colab_type": "code",
        "id": "VpD2jPj6s3-g",
        "colab": {}
      },
      "source": [
        "# Task parameters\n",
        "\n",
        "input_size = 784\n",
        "n_classes = 10\n",
        "\n",
        "# Hyperparameters\n",
        "#################\n",
        "\n",
        "# dropout??? or no dropout???\n",
        "dropout_rate = 0.1\n",
        "\n",
        "# regularization\n",
        "from keras.regularizers import l2\n",
        "#lambda_ = 0.05 ##???\n",
        "#regularizer = l2(lambda_) # or???\n",
        "regularizer = None ## no overfitting problem\n",
        "\n",
        "# weight initialization\n",
        "initializer = 'random_normal'\n",
        "\n",
        "# Model parameters\n",
        "#################\n",
        "\n",
        "# hidden_layers\n",
        "hidden_layer_size = 128\n",
        "n_hidden_layers = 6\n",
        "hidden_layer_sizes = n_hidden_layers * [hidden_layer_size]\n",
        "\n",
        "# activation function\n",
        "activation_fun =  'relu'"
      ],
      "execution_count": 0,
      "outputs": []
    },
    {
      "cell_type": "code",
      "metadata": {
        "colab_type": "code",
        "id": "2Sc9NCoJfBh0",
        "outputId": "d1c77cb2-637f-4ee5-9425-3eb03eef5d07",
        "colab": {
          "base_uri": "https://localhost:8080/",
          "height": 742
        }
      },
      "source": [
        "tf.reset_default_graph() # It's good practice to clean and reset everything\n",
        "clear_session            # even using Keras\n",
        "\n",
        "\n",
        "# Model\n",
        "#######\n",
        "\n",
        "x = Input(shape=(input_size,))\n",
        "\n",
        "# Hidden layers\n",
        "\n",
        "cur_last_layer = x\n",
        "\n",
        "for n, _ in enumerate(hidden_layer_sizes):\n",
        "    cur_last_layer = Dense(units=hidden_layer_sizes[n], \n",
        "                        activation=activation_fun,\n",
        "                        kernel_regularizer=regularizer,\n",
        "                        kernel_initializer=initializer,\n",
        "                        bias_initializer=initializer)(cur_last_layer)\n",
        "    \n",
        "    cur_last_layer = Dropout(rate=dropout_rate)(cur_last_layer)\n",
        "\n",
        "# Softmax \n",
        "\n",
        "predictions = Dense(n_classes, activation='softmax')(cur_last_layer)\n",
        "\n",
        "# Full model\n",
        "\n",
        "model = Model(inputs=x, outputs=predictions)\n",
        "\n",
        "model.summary()"
      ],
      "execution_count": 0,
      "outputs": [
        {
          "output_type": "stream",
          "text": [
            "WARNING:tensorflow:From /usr/local/lib/python3.6/dist-packages/tensorflow/python/ops/resource_variable_ops.py:435: colocate_with (from tensorflow.python.framework.ops) is deprecated and will be removed in a future version.\n",
            "Instructions for updating:\n",
            "Colocations handled automatically by placer.\n",
            "WARNING:tensorflow:From /usr/local/lib/python3.6/dist-packages/tensorflow/python/keras/layers/core.py:143: calling dropout (from tensorflow.python.ops.nn_ops) with keep_prob is deprecated and will be removed in a future version.\n",
            "Instructions for updating:\n",
            "Please use `rate` instead of `keep_prob`. Rate should be set to `rate = 1 - keep_prob`.\n",
            "_________________________________________________________________\n",
            "Layer (type)                 Output Shape              Param #   \n",
            "=================================================================\n",
            "input_1 (InputLayer)         (None, 784)               0         \n",
            "_________________________________________________________________\n",
            "dense (Dense)                (None, 128)               100480    \n",
            "_________________________________________________________________\n",
            "dropout (Dropout)            (None, 128)               0         \n",
            "_________________________________________________________________\n",
            "dense_1 (Dense)              (None, 128)               16512     \n",
            "_________________________________________________________________\n",
            "dropout_1 (Dropout)          (None, 128)               0         \n",
            "_________________________________________________________________\n",
            "dense_2 (Dense)              (None, 128)               16512     \n",
            "_________________________________________________________________\n",
            "dropout_2 (Dropout)          (None, 128)               0         \n",
            "_________________________________________________________________\n",
            "dense_3 (Dense)              (None, 128)               16512     \n",
            "_________________________________________________________________\n",
            "dropout_3 (Dropout)          (None, 128)               0         \n",
            "_________________________________________________________________\n",
            "dense_4 (Dense)              (None, 128)               16512     \n",
            "_________________________________________________________________\n",
            "dropout_4 (Dropout)          (None, 128)               0         \n",
            "_________________________________________________________________\n",
            "dense_5 (Dense)              (None, 128)               16512     \n",
            "_________________________________________________________________\n",
            "dropout_5 (Dropout)          (None, 128)               0         \n",
            "_________________________________________________________________\n",
            "dense_6 (Dense)              (None, 10)                1290      \n",
            "=================================================================\n",
            "Total params: 184,330\n",
            "Trainable params: 184,330\n",
            "Non-trainable params: 0\n",
            "_________________________________________________________________\n"
          ],
          "name": "stdout"
        }
      ]
    },
    {
      "cell_type": "markdown",
      "metadata": {
        "colab_type": "text",
        "id": "z4vQf0hkfBiA"
      },
      "source": [
        "## Loss, optimization and compilation"
      ]
    },
    {
      "cell_type": "code",
      "metadata": {
        "colab_type": "code",
        "id": "rWwxSa0ZfBiC",
        "colab": {}
      },
      "source": [
        "# Loss \n",
        "\n",
        "loss = sparse_categorical_crossentropy # we use this cross entropy variant as the input is not \n",
        "                                       # one-hot encoded\n",
        "\n",
        "# Optimizer\n",
        "\n",
        "optimizer = Adadelta(decay=0.0011) #some SGD variant \n",
        " \n",
        "# Compilation\n",
        "\n",
        "model.compile(optimizer=optimizer, loss=loss, metrics=['accuracy'])"
      ],
      "execution_count": 0,
      "outputs": []
    },
    {
      "cell_type": "markdown",
      "metadata": {
        "colab_type": "text",
        "id": "plYKl2O-fBiV"
      },
      "source": [
        "## Training"
      ]
    },
    {
      "cell_type": "code",
      "metadata": {
        "colab_type": "code",
        "id": "3J86Uf8cfBiX",
        "outputId": "9de338c6-b93f-443e-b5dc-465cceae66f5",
        "colab": {
          "base_uri": "https://localhost:8080/",
          "height": 774
        }
      },
      "source": [
        "tb=TensorBoard(log_dir='./Graph')\n",
        "tbc=TensorBoardColab(graph_path='./Graph')\n",
        "\n",
        "history = model.fit(x=train_images, y=train_labels,\n",
        "                    validation_data=(valid_images, valid_labels),\n",
        "                    epochs=20,\n",
        "                    batch_size=100, callbacks=[tb])"
      ],
      "execution_count": 0,
      "outputs": [
        {
          "output_type": "stream",
          "text": [
            "Wait for 8 seconds...\n",
            "TensorBoard link:\n",
            "http://1af027cc.ngrok.io\n",
            "Train on 60000 samples, validate on 5000 samples\n",
            "Epoch 1/20\n",
            "60000/60000 [==============================] - 4s 71us/sample - loss: 0.6811 - acc: 0.7525 - val_loss: 0.4448 - val_acc: 0.8400\n",
            "Epoch 2/20\n",
            "60000/60000 [==============================] - 4s 59us/sample - loss: 0.4550 - acc: 0.8377 - val_loss: 0.4311 - val_acc: 0.8502\n",
            "Epoch 3/20\n",
            "60000/60000 [==============================] - 4s 59us/sample - loss: 0.4042 - acc: 0.8546 - val_loss: 0.3996 - val_acc: 0.8594\n",
            "Epoch 4/20\n",
            "60000/60000 [==============================] - 4s 59us/sample - loss: 0.3741 - acc: 0.8646 - val_loss: 0.3854 - val_acc: 0.8652\n",
            "Epoch 5/20\n",
            "60000/60000 [==============================] - 4s 68us/sample - loss: 0.3552 - acc: 0.8703 - val_loss: 0.3730 - val_acc: 0.8668\n",
            "Epoch 6/20\n",
            "60000/60000 [==============================] - 4s 67us/sample - loss: 0.3397 - acc: 0.8772 - val_loss: 0.3616 - val_acc: 0.8742\n",
            "Epoch 7/20\n",
            "60000/60000 [==============================] - 4s 63us/sample - loss: 0.3286 - acc: 0.8799 - val_loss: 0.3627 - val_acc: 0.8734\n",
            "Epoch 8/20\n",
            "60000/60000 [==============================] - 4s 59us/sample - loss: 0.3191 - acc: 0.8832 - val_loss: 0.3630 - val_acc: 0.8716\n",
            "Epoch 9/20\n",
            "60000/60000 [==============================] - 4s 59us/sample - loss: 0.3096 - acc: 0.8859 - val_loss: 0.3589 - val_acc: 0.8736\n",
            "Epoch 10/20\n",
            "60000/60000 [==============================] - 4s 59us/sample - loss: 0.3035 - acc: 0.8878 - val_loss: 0.3603 - val_acc: 0.8732\n",
            "Epoch 11/20\n",
            "60000/60000 [==============================] - 4s 59us/sample - loss: 0.2983 - acc: 0.8909 - val_loss: 0.3567 - val_acc: 0.8774\n",
            "Epoch 12/20\n",
            "60000/60000 [==============================] - 4s 59us/sample - loss: 0.2909 - acc: 0.8931 - val_loss: 0.3523 - val_acc: 0.8770\n",
            "Epoch 13/20\n",
            "60000/60000 [==============================] - 4s 59us/sample - loss: 0.2901 - acc: 0.8941 - val_loss: 0.3502 - val_acc: 0.8772\n",
            "Epoch 14/20\n",
            "60000/60000 [==============================] - 4s 59us/sample - loss: 0.2861 - acc: 0.8957 - val_loss: 0.3505 - val_acc: 0.8786\n",
            "Epoch 15/20\n",
            "60000/60000 [==============================] - 4s 60us/sample - loss: 0.2808 - acc: 0.8956 - val_loss: 0.3537 - val_acc: 0.8762\n",
            "Epoch 16/20\n",
            "60000/60000 [==============================] - 4s 59us/sample - loss: 0.2772 - acc: 0.8980 - val_loss: 0.3526 - val_acc: 0.8764\n",
            "Epoch 17/20\n",
            "60000/60000 [==============================] - 4s 59us/sample - loss: 0.2742 - acc: 0.9006 - val_loss: 0.3474 - val_acc: 0.8820\n",
            "Epoch 18/20\n",
            "60000/60000 [==============================] - 4s 59us/sample - loss: 0.2710 - acc: 0.8994 - val_loss: 0.3536 - val_acc: 0.8782\n",
            "Epoch 19/20\n",
            "60000/60000 [==============================] - 4s 59us/sample - loss: 0.2687 - acc: 0.9012 - val_loss: 0.3564 - val_acc: 0.8770\n",
            "Epoch 20/20\n",
            "60000/60000 [==============================] - 4s 59us/sample - loss: 0.2667 - acc: 0.9022 - val_loss: 0.3517 - val_acc: 0.8816\n"
          ],
          "name": "stdout"
        }
      ]
    },
    {
      "cell_type": "code",
      "metadata": {
        "colab_type": "code",
        "id": "nhzdXlRJfBix",
        "outputId": "33425e1f-ecf1-41a4-f113-a4668cf2e591",
        "colab": {
          "base_uri": "https://localhost:8080/",
          "height": 573
        }
      },
      "source": [
        "def display_history(history):\n",
        "    \"\"\"Summarize history for accuracy and loss.\n",
        "    \"\"\"\n",
        "    plt.plot(history.history['acc'])\n",
        "    plt.plot(history.history['val_acc'])\n",
        "    plt.title('Model accuracy')\n",
        "    plt.ylabel('accuracy')\n",
        "    plt.xlabel('epoch')\n",
        "    plt.legend(['train', 'valid'], loc='upper left')\n",
        "    plt.show()\n",
        "    plt.plot(history.history['loss'])\n",
        "    plt.plot(history.history['val_loss'])\n",
        "    plt.title('Model loss')\n",
        "    plt.ylabel('loss')\n",
        "    plt.xlabel('epoch')\n",
        "    plt.legend(['train', 'valid'], loc='upper left')\n",
        "    plt.show()\n",
        "    \n",
        "display_history(history)"
      ],
      "execution_count": 0,
      "outputs": [
        {
          "output_type": "display_data",
          "data": {
            "image/png": "[encoded data removed]",
            "text/plain": [
              "<Figure size 432x288 with 1 Axes>"
            ]
          },
          "metadata": {
            "tags": []
          }
        },
        {
          "output_type": "display_data",
          "data": {
            "image/png": "[encoded data removed]",
            "text/plain": [
              "<Figure size 432x288 with 1 Axes>"
            ]
          },
          "metadata": {
            "tags": []
          }
        }
      ]
    },
    {
      "cell_type": "markdown",
      "metadata": {
        "colab_type": "text",
        "id": "s8r1zj1fiJw1"
      },
      "source": [
        "## Saving the model"
      ]
    },
    {
      "cell_type": "code",
      "metadata": {
        "colab_type": "code",
        "id": "2NgYnGN5iOXL",
        "colab": {}
      },
      "source": [
        "model.save('my_model.h5')  # creates a HDF5 file 'my_model.h5'\n"
      ],
      "execution_count": 0,
      "outputs": []
    }
  ]
}